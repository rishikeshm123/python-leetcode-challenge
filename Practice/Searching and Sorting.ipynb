{
 "cells": [
  {
   "cell_type": "markdown",
   "id": "115ca55b",
   "metadata": {},
   "source": [
    "<h1><font color = \"Orange\"> Searching and Sorting Algorithms"
   ]
  },
  {
   "cell_type": "markdown",
   "id": "72970eb1",
   "metadata": {},
   "source": [
    "<h3><font color = \"orange\"> 1. Linear Search Algorithm "
   ]
  },
  {
   "cell_type": "markdown",
   "id": "2335afab",
   "metadata": {},
   "source": [
    "Linear Search, also known as sequential search, is the simplest searching algorithm. It checks each element in a list or array one by one until it finds the target value or reaches the end of the list."
   ]
  },
  {
   "cell_type": "markdown",
   "id": "d4fe9fdb",
   "metadata": {},
   "source": [
    "arr = [5, 3, 8, 6, 2]  # This is the LIST <br>\n",
    "target = 8             # This is the TARGET we are searching for"
   ]
  },
  {
   "cell_type": "code",
   "execution_count": 6,
   "id": "9af2bc09",
   "metadata": {},
   "outputs": [],
   "source": [
    "from typing import List, Dict "
   ]
  },
  {
   "cell_type": "code",
   "execution_count": null,
   "id": "45d9ea98",
   "metadata": {},
   "outputs": [],
   "source": [
    "def linear_search(target:int, arr: List[int]) -> int:\n",
    "    length = len(arr)\n",
    "    print(\"Length of array:\",length)\n",
    "    for i in range(0,length):\n",
    "        if arr[i] == target:\n",
    "            return i\n",
    "        \n",
    "    return -1"
   ]
  },
  {
   "cell_type": "code",
   "execution_count": 12,
   "id": "23d4e8d5",
   "metadata": {},
   "outputs": [
    {
     "name": "stdout",
     "output_type": "stream",
     "text": [
      "Length of array: 5\n",
      "Target: 8, found in Array at Index 2\n"
     ]
    }
   ],
   "source": [
    "arr = [5, 3, 8, 6, 2]\n",
    "target = 8\n",
    "\n",
    "result = linear_search(target= target,\n",
    "                       arr=arr\n",
    "                       )\n",
    "\n",
    "if result != -1:\n",
    "    print(f\"Target: {target}, found in Array at Index {result}\")\n",
    "else:\n",
    "    print(f\"Target: {target}, not found in the Array\")"
   ]
  },
  {
   "cell_type": "markdown",
   "id": "41530848",
   "metadata": {},
   "source": [
    "<h3><font color = \"orange\"> 2. Binary Search Algorithm"
   ]
  },
  {
   "cell_type": "code",
   "execution_count": 29,
   "id": "16276a6e",
   "metadata": {},
   "outputs": [],
   "source": [
    "def binary_search(target: int, arr : List[int]) -> int:\n",
    "    length = len(arr)\n",
    "    start = 0\n",
    "    end = length - 1\n",
    "\n",
    "    while (start <= end):\n",
    "        mid = (start + end)//2\n",
    "\n",
    "        if (arr[mid] == target):\n",
    "            return mid \n",
    "        \n",
    "        elif (arr[mid] > target):\n",
    "            end = mid - 1\n",
    "\n",
    "        elif (arr[mid] < target):\n",
    "            start = mid + 1\n",
    "\n",
    "    return -1 "
   ]
  },
  {
   "cell_type": "code",
   "execution_count": 37,
   "id": "91843399",
   "metadata": {},
   "outputs": [
    {
     "name": "stdout",
     "output_type": "stream",
     "text": [
      "Target 10 found at index 4\n"
     ]
    }
   ],
   "source": [
    "arr = [2, 4, 6, 8, 10, 12, 14]\n",
    "target = 10\n",
    "\n",
    "result = binary_search(target = target,\n",
    "                       arr = arr\n",
    "                       )\n",
    "\n",
    "if result != -1:\n",
    "    print(f\"Target {target} found at index {result}\")\n",
    "else:\n",
    "    print(f\"Target {target} not found in array\")\n"
   ]
  },
  {
   "cell_type": "code",
   "execution_count": null,
   "id": "d3bac971",
   "metadata": {},
   "outputs": [],
   "source": []
  }
 ],
 "metadata": {
  "kernelspec": {
   "display_name": "leetcode_env",
   "language": "python",
   "name": "python3"
  },
  "language_info": {
   "codemirror_mode": {
    "name": "ipython",
    "version": 3
   },
   "file_extension": ".py",
   "mimetype": "text/x-python",
   "name": "python",
   "nbconvert_exporter": "python",
   "pygments_lexer": "ipython3",
   "version": "3.13.1"
  }
 },
 "nbformat": 4,
 "nbformat_minor": 5
}
