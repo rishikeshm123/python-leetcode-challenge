{
 "cells": [
  {
   "cell_type": "markdown",
   "id": "115ca55b",
   "metadata": {},
   "source": [
    "<h1><font color = \"Orange\"> Searching and Sorting Algorithms"
   ]
  },
  {
   "cell_type": "markdown",
   "id": "72970eb1",
   "metadata": {},
   "source": [
    "<h3><font color = \"orange\"> 1. Linear Search Algorithm "
   ]
  },
  {
   "cell_type": "markdown",
   "id": "2335afab",
   "metadata": {},
   "source": [
    "Linear Search, also known as sequential search, is the simplest searching algorithm. It checks each element in a list or array one by one until it finds the target value or reaches the end of the list."
   ]
  },
  {
   "cell_type": "markdown",
   "id": "1a664fdd",
   "metadata": {},
   "source": [
    "Time Complexity: <br>\n",
    "- Best case: O(1) – when the target element is at the beginning.\n",
    "- Average case: O(n)\n",
    "- Worst case: O(n) – when the target is at the end or not present."
   ]
  },
  {
   "cell_type": "markdown",
   "id": "d4fe9fdb",
   "metadata": {},
   "source": [
    "arr = [5, 3, 8, 6, 2]  # This is the LIST <br>\n",
    "target = 8             # This is the TARGET we are searching for"
   ]
  },
  {
   "cell_type": "code",
   "execution_count": 6,
   "id": "9af2bc09",
   "metadata": {},
   "outputs": [],
   "source": [
    "from typing import List, Dict "
   ]
  },
  {
   "cell_type": "code",
   "execution_count": 7,
   "id": "45d9ea98",
   "metadata": {},
   "outputs": [],
   "source": [
    "def linear_search(target:int, arr: List[int]) -> int:\n",
    "    length = len(arr)\n",
    "    print(\"Length of array:\",length)\n",
    "    for i in range(0,length):\n",
    "        if arr[i] == target:\n",
    "            return i\n",
    "        \n",
    "    return -1"
   ]
  },
  {
   "cell_type": "code",
   "execution_count": 8,
   "id": "23d4e8d5",
   "metadata": {},
   "outputs": [
    {
     "name": "stdout",
     "output_type": "stream",
     "text": [
      "Length of array: 5\n",
      "Target: 8, found in Array at Index 2\n"
     ]
    }
   ],
   "source": [
    "arr = [5, 3, 8, 6, 2]\n",
    "target = 8\n",
    "\n",
    "result = linear_search(target= target,\n",
    "                       arr=arr\n",
    "                       )\n",
    "\n",
    "if result != -1:\n",
    "    print(f\"Target: {target}, found in Array at Index {result}\")\n",
    "else:\n",
    "    print(f\"Target: {target}, not found in the Array\")"
   ]
  },
  {
   "cell_type": "markdown",
   "id": "41530848",
   "metadata": {},
   "source": [
    "<h3><font color = \"orange\"> 2. Binary Search Algorithm\n"
   ]
  },
  {
   "cell_type": "markdown",
   "id": "2ad22c29",
   "metadata": {},
   "source": [
    "Binary Search is an efficient algorithm used to find the position of a target value within a sorted array. <br>\n",
    "Binary search works by repeatedly dividing a sorted array in half, comparing the target value to the middle element, and narrowing the search to the half where the target could exist, until it is found or the range is empty. This reduces the search space logarithmically, making it very efficient."
   ]
  },
  {
   "cell_type": "markdown",
   "id": "3858ff5e",
   "metadata": {},
   "source": [
    "Time Complexity:\n",
    " - Best case: O(1) – when the target is at the middle.\n",
    " - Average case: O(log n)\n",
    " - Worst case: O(log n)"
   ]
  },
  {
   "cell_type": "code",
   "execution_count": 9,
   "id": "16276a6e",
   "metadata": {},
   "outputs": [],
   "source": [
    "def binary_search(target: int, arr : List[int]) -> int:\n",
    "    length = len(arr)\n",
    "    start = 0\n",
    "    end = length - 1\n",
    "\n",
    "    while (start <= end):\n",
    "        mid = (start + end)//2\n",
    "\n",
    "        if (arr[mid] == target):\n",
    "            return mid \n",
    "        \n",
    "        elif (arr[mid] > target):\n",
    "            end = mid - 1\n",
    "\n",
    "        elif (arr[mid] < target):\n",
    "            start = mid + 1\n",
    "\n",
    "    return -1 "
   ]
  },
  {
   "cell_type": "code",
   "execution_count": 10,
   "id": "91843399",
   "metadata": {},
   "outputs": [
    {
     "name": "stdout",
     "output_type": "stream",
     "text": [
      "Target 10 found at index 4\n"
     ]
    }
   ],
   "source": [
    "arr = [2, 4, 6, 8, 10, 12, 14]\n",
    "target = 10\n",
    "\n",
    "result = binary_search(target = target,\n",
    "                       arr = arr\n",
    "                       )\n",
    "\n",
    "if result != -1:\n",
    "    print(f\"Target {target} found at index {result}\")\n",
    "else:\n",
    "    print(f\"Target {target} not found in array\")\n"
   ]
  },
  {
   "cell_type": "markdown",
   "id": "d3bac971",
   "metadata": {},
   "source": [
    "<h3><font color = \"orange\"> 3. Bubble Sort"
   ]
  },
  {
   "cell_type": "markdown",
   "id": "3ebbf019",
   "metadata": {},
   "source": [
    "Bubble Sort repeatedly steps through the list, compares adjacent elements, and swaps them if they are in the wrong order. This process is repeated until the list is sorted.\n",
    "Each pass \"bubbles\" the largest unsorted element to its correct position at the end."
   ]
  },
  {
   "cell_type": "markdown",
   "id": "c04868b5",
   "metadata": {},
   "source": [
    "It’s called bubble sort because in each pass through the array, the largest unsorted element \"bubbles up\" to the top (end) of the list—just like air bubbles rising to the surface of water.\n",
    "So, after the first pass, the biggest element is in its correct position at the end, after the second pass, the second largest is in place, and so on.\n"
   ]
  },
  {
   "cell_type": "markdown",
   "id": "f24803e3",
   "metadata": {},
   "source": [
    "Time Complexity:\n",
    " - Best case: O(n) – if the array is already sorted (with optimization).\n",
    " - Average case: O(n²)\n",
    " - Worst case: O(n²) – if the array is in reverse order."
   ]
  },
  {
   "cell_type": "code",
   "execution_count": 13,
   "id": "a732db50",
   "metadata": {},
   "outputs": [],
   "source": [
    "def bubble_sort(arr: List[int]) -> List:\n",
    "    n = len(arr)\n",
    "\n",
    "    for passes in range(0,n-1):\n",
    "        for i in range(0,n-1-passes):\n",
    "            if arr[i] > arr[i+1]:\n",
    "                arr[i] , arr[i+1] = arr[i+1] , arr[i]\n",
    "\n",
    "    return arr   \n"
   ]
  },
  {
   "cell_type": "code",
   "execution_count": 14,
   "id": "f963a314",
   "metadata": {},
   "outputs": [
    {
     "name": "stdout",
     "output_type": "stream",
     "text": [
      "Sorted array: [1, 2, 3, 4, 5]\n"
     ]
    }
   ],
   "source": [
    "unsorted_list = [5,4,3,2,1]\n",
    "sorted_list = bubble_sort(arr = unsorted_list)\n",
    "print(\"Sorted array:\",sorted_list)\n"
   ]
  }
 ],
 "metadata": {
  "kernelspec": {
   "display_name": "leetcode_env",
   "language": "python",
   "name": "python3"
  },
  "language_info": {
   "codemirror_mode": {
    "name": "ipython",
    "version": 3
   },
   "file_extension": ".py",
   "mimetype": "text/x-python",
   "name": "python",
   "nbconvert_exporter": "python",
   "pygments_lexer": "ipython3",
   "version": "3.13.1"
  }
 },
 "nbformat": 4,
 "nbformat_minor": 5
}
