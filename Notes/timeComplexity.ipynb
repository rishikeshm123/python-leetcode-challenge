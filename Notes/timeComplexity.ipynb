{
 "cells": [
  {
   "cell_type": "markdown",
   "id": "9b1476b0",
   "metadata": {},
   "source": [
    "# Time Complexity"
   ]
  },
  {
   "cell_type": "markdown",
   "id": "8a04dfb3",
   "metadata": {},
   "source": [
    "Time complexity is a way of describing how the execution time of an algorithm grows as the size of the input (n) increases. <br>"
   ]
  },
  {
   "cell_type": "markdown",
   "id": "7e849bce",
   "metadata": {},
   "source": [
    "## What Time Complexity Means?\n",
    "\n",
    "It’s not about the exact time (in seconds) an algorithm takes, It’s about the growth rate of the number of operations compared to input size. <br>\n",
    "\n",
    "We usually express it using Big O notation: <br>\n",
    "\n",
    "O(1) → constant time (fastest) <br>\n",
    "O(log n) → logarithmic time <br>\n",
    "O(n) → linear time <br>\n",
    "O(n log n) → linearithmic time <br>\n",
    "O(n²) → quadratic time  <br>\n",
    "O(2ⁿ) → exponential time (slowest)"
   ]
  },
  {
   "attachments": {
    "big-o-notation-comparing-complexity-classes-v2-800x412.png": {
     "image/png": "[encoded data removed]"
    }
   },
   "cell_type": "markdown",
   "id": "9d8143da",
   "metadata": {},
   "source": [
    "![big-o-notation-comparing-complexity-classes-v2-800x412.png](attachment:big-o-notation-comparing-complexity-classes-v2-800x412.png)\n",
    "\n"
   ]
  },
  {
   "cell_type": "markdown",
   "id": "69e70ba9",
   "metadata": {},
   "source": [
    "# Steps to Measure Big-O Notation"
   ]
  },
  {
   "cell_type": "markdown",
   "id": "34d1a5f6",
   "metadata": {},
   "source": [
    "Measuring Big O (time complexity) is basically figuring out how your algorithm’s runtime grows with input size.\n",
    "Here’s a step-by-step method you can follow for any code:"
   ]
  },
  {
   "cell_type": "markdown",
   "id": "44fb88dd",
   "metadata": {},
   "source": [
    "### Step 1: Identify the Input Size (n)\n",
    "\n",
    "What is n?\n",
    "Usually:\n",
    "Length of an array<br>\n",
    "Number of nodes in a graph<br>\n",
    "Number of characters in a string<br>\n",
    "The complexity is always measured relative to n.<br>\n",
    "\n",
    "Example:\n",
    "If your function takes an array arr as input → n = len(arr)"
   ]
  },
  {
   "cell_type": "markdown",
   "id": "f34db61d",
   "metadata": {},
   "source": [
    "### Step 2:Count the Basic Operations\n",
    "\n",
    "A “basic operation” is the smallest measurable unit (addition, comparison, assignment, etc.).\n",
    "\n",
    "We want to count how the number of operations changes as n changes."
   ]
  },
  {
   "cell_type": "markdown",
   "id": "464f6412",
   "metadata": {},
   "source": [
    "### Step 3: Focus on Loops & Recursion\n",
    "\n",
    "For loops → multiply complexities.<br>\n",
    "Nested loops → multiply inner and outer. <br>\n",
    "Sequential statements → add complexities, then keep the largest term."
   ]
  },
  {
   "cell_type": "code",
   "execution_count": 4,
   "id": "e17f8ba6",
   "metadata": {},
   "outputs": [],
   "source": [
    "def time_complexity(n):\n",
    "    for i in range(n):        # O(n)\n",
    "        for j in range(n):    # O(n)\n",
    "            print(i, j)       # O(1)"
   ]
  },
  {
   "cell_type": "markdown",
   "id": "9e769f1f",
   "metadata": {},
   "source": [
    "### Step 4: Drop Constants\n",
    "\n",
    "Big O ignores constants because they don’t affect growth for large n. <br>\n",
    "Example: <br>\n",
    "5n + 3 → O(n) <br>\n",
    "2n² + 10n + 50 → O(n²)"
   ]
  },
  {
   "cell_type": "markdown",
   "id": "3718b2c0",
   "metadata": {},
   "source": [
    "### Step 5: Keep the Dominant Term\n",
    "\n",
    "If there’s more than one term, keep the one that grows fastest. <br>\n",
    "Example: <br>\n",
    "O(n² + n + log n) → O(n²)"
   ]
  },
  {
   "cell_type": "markdown",
   "id": "0846ea29",
   "metadata": {},
   "source": [
    "### Example:"
   ]
  },
  {
   "cell_type": "code",
   "execution_count": 5,
   "id": "79fe4191",
   "metadata": {},
   "outputs": [],
   "source": [
    "def example_function(arr):\n",
    "    total = 0                       # Step 1\n",
    "    for num in arr:                 # Step 2\n",
    "        total += num                # Step 3\n",
    "    for i in range(len(arr)):       # Step 4\n",
    "        for j in range(len(arr)):   # Step 5\n",
    "            print(i, j)             # Step 6\n",
    "    return total                    # Step 7"
   ]
  },
  {
   "cell_type": "markdown",
   "id": "d3e78c5f",
   "metadata": {},
   "source": [
    "### Step-by-step counting\n",
    "Let n = len(arr). <br>\n",
    "\n",
    "1️⃣ Line-by-line <br>\n",
    "total = 0 → runs once → O(1) <br>\n",
    "for num in arr: → loop runs n times. <br>\n",
    "total += num → inside the first loop → executes n times → O(n). <br>\n",
    "for i in range(len(arr)): → outer loop runs n times. <br>\n",
    "for j in range(len(arr)): → inner loop runs n times for each i. <br>\n",
    "print(i, j) → inside both loops → runs n × n = n² times → O(n²). <br>\n",
    "return total → runs once → O(1). <br>\n",
    "\n",
    "2️⃣ Combine <br>\n",
    "\n",
    "Total = <br>\n",
    "O(1) + O(n) + O(n²) + O(1) <br>\n",
    "= O(n + n²) <br>\n",
    "\n",
    "3️⃣ Keep the dominant term <br>\n",
    "\n",
    "For large n, n² grows much faster than n. <br>\n",
    "So: O(n²) <br>\n",
    "\n",
    "✅ Final Complexity: O(n²)"
   ]
  },
  {
   "cell_type": "markdown",
   "id": "cb865113",
   "metadata": {},
   "source": []
  }
 ],
 "metadata": {
  "kernelspec": {
   "display_name": "leetcode_env",
   "language": "python",
   "name": "python3"
  },
  "language_info": {
   "codemirror_mode": {
    "name": "ipython",
    "version": 3
   },
   "file_extension": ".py",
   "mimetype": "text/x-python",
   "name": "python",
   "nbconvert_exporter": "python",
   "pygments_lexer": "ipython3",
   "version": "3.13.1"
  }
 },
 "nbformat": 4,
 "nbformat_minor": 5
}
