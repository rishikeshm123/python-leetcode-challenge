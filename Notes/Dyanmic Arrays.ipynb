{
 "cells": [
  {
   "cell_type": "code",
   "execution_count": 4,
   "id": "b27c6079",
   "metadata": {},
   "outputs": [],
   "source": [
    "import ctypes"
   ]
  },
  {
   "cell_type": "code",
   "execution_count": 13,
   "id": "677ee122",
   "metadata": {},
   "outputs": [],
   "source": [
    "class MeraList:\n",
    "\n",
    "  def __init__(self):\n",
    "    self.size = 1\n",
    "    self.n = 0\n",
    "    # create a C type ka array with size -> self.size\n",
    "    self.A = self.__make_array(self.size)\n",
    "\n",
    "  def __len__(self):\n",
    "    return self.n\n",
    "\n",
    "  def append(self,item):\n",
    "    # check if vacant\n",
    "    if self.n == self.size:\n",
    "      # array is full -> resize\n",
    "      self.__resize(self.size*2)\n",
    "\n",
    "    self.A[self.n] = item\n",
    "    self.n = self.n + 1\n",
    "\n",
    "  def pop(self):\n",
    "    if self.n == 0:\n",
    "      return 'Empty List'\n",
    "    print(self.A[self.n-1])\n",
    "    self.n = self.n - 1\n",
    "\n",
    "  def clear(self):\n",
    "    self.n = 0\n",
    "    self.size = 1\n",
    "\n",
    "  def find(self,item):\n",
    "\n",
    "    for i in range(self.n):\n",
    "      if self.A[i] == item:\n",
    "        return i\n",
    "    return 'ValueError - not in list'\n",
    "\n",
    "  def insert(self,pos,item):\n",
    "\n",
    "    if self.n == self.size:\n",
    "      self.__resize(self.size*2)\n",
    "\n",
    "    for i in range(self.n,pos,-1):\n",
    "      self.A[i] = self.A[i-1]\n",
    "\n",
    "    self.A[pos] = item\n",
    "    self.n = self.n + 1\n",
    "\n",
    "  def remove(self,item):\n",
    "    # search and get pos\n",
    "    pos = self.find(item)\n",
    "    if type(pos) == int:\n",
    "      # delete\n",
    "      self.__delitem__(pos)\n",
    "    else:\n",
    "      return pos\n",
    "\n",
    "  def __resize(self,new_capacity):\n",
    "    # create a new array with new capacity\n",
    "    B = self.__make_array(new_capacity)\n",
    "    self.size = new_capacity\n",
    "    # copy the content of old array to new one\n",
    "    for i in range(self.n):\n",
    "      B[i] = self.A[i]\n",
    "    # reassign A\n",
    "    self.A = B\n",
    "\n",
    "  def __str__(self):\n",
    "    result = ''\n",
    "    for i in range(self.n):\n",
    "      result = result + str(self.A[i]) + ','\n",
    "\n",
    "    return '[' + result[:-1] + ']'\n",
    "\n",
    "  def __getitem__(self,index):\n",
    "\n",
    "    if 0<= index < self.n:\n",
    "      return self.A[index]\n",
    "    else:\n",
    "      return 'IndexError'\n",
    "\n",
    "  def __delitem__(self,pos):\n",
    "    # delete pos wala item\n",
    "    if 0<= pos < self.n:\n",
    "      for i in range(pos,self.n-1):\n",
    "        self.A[i] = self.A[i+1]\n",
    "\n",
    "      self.n = self.n - 1\n",
    "\n",
    "  def __make_array(self,capacity):\n",
    "    # referential array(C type)\n",
    "    return (capacity*ctypes.py_object)()\n",
    "     "
   ]
  },
  {
   "cell_type": "code",
   "execution_count": 14,
   "id": "bf0d4dd1",
   "metadata": {},
   "outputs": [
    {
     "data": {
      "text/plain": [
       "0"
      ]
     },
     "execution_count": 14,
     "metadata": {},
     "output_type": "execute_result"
    }
   ],
   "source": [
    "L = MeraList()\n",
    "len(L)"
   ]
  },
  {
   "cell_type": "code",
   "execution_count": 15,
   "id": "163235a8",
   "metadata": {},
   "outputs": [],
   "source": [
    "L.append(1)\n",
    "L.append('hello')\n",
    "L.append(False)\n",
    "L.append(4.5)"
   ]
  },
  {
   "cell_type": "code",
   "execution_count": 16,
   "id": "8abd0b3f",
   "metadata": {},
   "outputs": [
    {
     "data": {
      "text/plain": [
       "4"
      ]
     },
     "execution_count": 16,
     "metadata": {},
     "output_type": "execute_result"
    }
   ],
   "source": [
    "len(L)"
   ]
  },
  {
   "cell_type": "code",
   "execution_count": 17,
   "id": "3442ed1a",
   "metadata": {},
   "outputs": [],
   "source": [
    "L.remove(4.5)"
   ]
  },
  {
   "cell_type": "code",
   "execution_count": 19,
   "id": "cf148dcc",
   "metadata": {},
   "outputs": [
    {
     "name": "stdout",
     "output_type": "stream",
     "text": [
      "[1,hello,False]\n"
     ]
    }
   ],
   "source": [
    "print(L)"
   ]
  }
 ],
 "metadata": {
  "kernelspec": {
   "display_name": "leetcode_env",
   "language": "python",
   "name": "python3"
  },
  "language_info": {
   "codemirror_mode": {
    "name": "ipython",
    "version": 3
   },
   "file_extension": ".py",
   "mimetype": "text/x-python",
   "name": "python",
   "nbconvert_exporter": "python",
   "pygments_lexer": "ipython3",
   "version": "3.13.1"
  }
 },
 "nbformat": 4,
 "nbformat_minor": 5
}
