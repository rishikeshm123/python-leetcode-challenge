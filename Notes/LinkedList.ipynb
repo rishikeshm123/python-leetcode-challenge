{
 "cells": [
  {
   "cell_type": "markdown",
   "id": "dbbf4654",
   "metadata": {},
   "source": [
    "# Linked Lists"
   ]
  },
  {
   "cell_type": "code",
   "execution_count": 2,
   "id": "88370eef",
   "metadata": {},
   "outputs": [],
   "source": [
    "class Node:\n",
    "\n",
    "  def __init__(self,value):\n",
    "    self.data = value\n",
    "    self.next = None"
   ]
  },
  {
   "cell_type": "code",
   "execution_count": 3,
   "id": "491b2d1f",
   "metadata": {},
   "outputs": [],
   "source": [
    "a = Node(1)\n",
    "b = Node(2)\n",
    "c = Node(3)"
   ]
  },
  {
   "cell_type": "code",
   "execution_count": 4,
   "id": "7202a7f3",
   "metadata": {},
   "outputs": [
    {
     "name": "stdout",
     "output_type": "stream",
     "text": [
      "3\n"
     ]
    }
   ],
   "source": [
    "print(c.data)"
   ]
  },
  {
   "cell_type": "code",
   "execution_count": 5,
   "id": "17b978ac",
   "metadata": {},
   "outputs": [],
   "source": [
    "class LinkedList:\n",
    "\n",
    "  def __init__(self):\n",
    "\n",
    "    # Empty Linked List\n",
    "    self.head = None\n",
    "    # no of nodes in the LL\n",
    "    self.n = 0\n",
    "\n",
    "  def __len__(self):\n",
    "    return self.n\n",
    "\n",
    "  def insert_head(self,value):\n",
    "\n",
    "    # new node\n",
    "    new_node = Node(value)\n",
    "\n",
    "    # create connection\n",
    "    new_node.next = self.head\n",
    "\n",
    "    # reassign head\n",
    "    self.head = new_node\n",
    "\n",
    "    # increment n\n",
    "    self.n = self.n + 1\n",
    "\n",
    "  def __str__(self):\n",
    "\n",
    "    curr = self.head\n",
    "\n",
    "    result = ''\n",
    "\n",
    "    while curr != None:\n",
    "      result = result + str(curr.data) + '->'\n",
    "      curr = curr.next\n",
    "\n",
    "    return result[:-2]\n",
    "\n",
    "  def append(self,value):\n",
    "\n",
    "    new_node = Node(value)\n",
    "\n",
    "    if self.head == None:\n",
    "      # empty\n",
    "      self.head = new_node\n",
    "      self.n = self.n + 1\n",
    "      return\n",
    "\n",
    "    curr = self.head\n",
    "\n",
    "    while curr.next != None:\n",
    "      curr = curr.next\n",
    "\n",
    "    # you are at the last node\n",
    "    curr.next = new_node\n",
    "    self.n = self.n + 1\n",
    "\n",
    "  def insert_after(self,after,value):\n",
    "\n",
    "    new_node = Node(value)\n",
    "\n",
    "    curr = self.head\n",
    "\n",
    "    while curr != None:\n",
    "      if curr.data == after:\n",
    "        break\n",
    "      curr = curr.next\n",
    "\n",
    "    if curr != None:\n",
    "      new_node.next = curr.next\n",
    "      curr.next = new_node\n",
    "      self.n = self.n + 1\n",
    "    else:\n",
    "      return 'Item not found'\n",
    "\n",
    "  def clear(self):\n",
    "    self.head = None\n",
    "    self.n = 0\n",
    "\n",
    "  def delete_head(self):\n",
    "\n",
    "    if self.head == None:\n",
    "      # empty\n",
    "      return 'Empty LL'\n",
    "\n",
    "    self.head = self.head.next\n",
    "    self.n = self.n - 1\n",
    "\n",
    "  def pop(self):\n",
    "\n",
    "    if self.head == None:\n",
    "      # empty\n",
    "      return 'Empty LL'\n",
    "\n",
    "    curr = self.head\n",
    "\n",
    "    # kya linked list me 1 item hai?\n",
    "    if curr.next == None:\n",
    "      # head hi hoga(delete from head)\n",
    "      return self.delete_head()\n",
    "      \n",
    "\n",
    "    while curr.next.next != None:\n",
    "      curr = curr.next\n",
    "\n",
    "    # curr -> 2nd last node\n",
    "    curr.next = None\n",
    "    self.n = self.n - 1\n",
    "\n",
    "  def remove(self,value):\n",
    "\n",
    "    if self.head == None:\n",
    "      return 'Empty LL'\n",
    "\n",
    "    if self.head.data == value:\n",
    "      # you want to remove the head node\n",
    "      return self.delete_head()\n",
    "\n",
    "    curr = self.head\n",
    "\n",
    "    while curr.next != None:\n",
    "      if curr.next.data == value:\n",
    "        break\n",
    "      curr = curr.next\n",
    "\n",
    "    # 2 cases item mil gaya\n",
    "    # item nai mila\n",
    "    if curr.next == None:\n",
    "      # item nai mila\n",
    "      return 'Not Found'\n",
    "    else:\n",
    "      curr.next = curr.next.next\n",
    "      self.n = self.n - 1\n",
    "\n",
    "  def search(self,item):\n",
    "\n",
    "    curr = self.head\n",
    "    pos = 0\n",
    "\n",
    "    while curr != None:\n",
    "      if curr.data == item:\n",
    "        return pos\n",
    "      curr = curr.next\n",
    "      pos = pos + 1\n",
    "\n",
    "    return 'Not Found'\n",
    "\n",
    "  def __getitem__(self,index):\n",
    "\n",
    "    curr = self.head\n",
    "    pos = 0\n",
    "\n",
    "    while curr != None:\n",
    "      if pos == index:\n",
    "        return curr.data\n",
    "      curr = curr.next\n",
    "      pos = pos + 1\n",
    "\n",
    "    return 'IndexError'\n"
   ]
  },
  {
   "cell_type": "code",
   "execution_count": 6,
   "id": "dee39276",
   "metadata": {},
   "outputs": [],
   "source": [
    "L = LinkedList()"
   ]
  },
  {
   "cell_type": "code",
   "execution_count": 7,
   "id": "8cabb162",
   "metadata": {},
   "outputs": [],
   "source": [
    "L.insert_head(1)\n",
    "L.append(2)\n",
    "L.append(3)\n",
    "L.delete_head()\n",
    "L.insert_head(4)\n",
    "     "
   ]
  },
  {
   "cell_type": "code",
   "execution_count": 8,
   "id": "00ee1bf0",
   "metadata": {},
   "outputs": [
    {
     "name": "stdout",
     "output_type": "stream",
     "text": [
      "4->2->3\n"
     ]
    }
   ],
   "source": [
    "print(L)"
   ]
  }
 ],
 "metadata": {
  "kernelspec": {
   "display_name": "leetcode_env",
   "language": "python",
   "name": "python3"
  },
  "language_info": {
   "codemirror_mode": {
    "name": "ipython",
    "version": 3
   },
   "file_extension": ".py",
   "mimetype": "text/x-python",
   "name": "python",
   "nbconvert_exporter": "python",
   "pygments_lexer": "ipython3",
   "version": "3.13.1"
  }
 },
 "nbformat": 4,
 "nbformat_minor": 5
}
